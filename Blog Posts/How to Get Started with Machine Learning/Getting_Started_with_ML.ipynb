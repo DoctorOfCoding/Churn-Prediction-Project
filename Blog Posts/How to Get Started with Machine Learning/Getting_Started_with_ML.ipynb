{
 "cells": [
  {
   "cell_type": "markdown",
   "id": "32b6d5b8",
   "metadata": {
    "papermill": {
     "duration": 0.004543,
     "end_time": "2025-06-05T14:11:52.786825",
     "exception": false,
     "start_time": "2025-06-05T14:11:52.782282",
     "status": "completed"
    },
    "tags": []
   },
   "source": [
    "**This notebook is an exercise in the [Introduction to Machine Learning](https://www.kaggle.com/learn/intro-to-machine-learning) course.  You can reference the tutorial at [this link](https://www.kaggle.com/dansbecker/your-first-machine-learning-model).**\n",
    "\n",
    "---\n"
   ]
  },
  {
   "cell_type": "markdown",
   "id": "8443bd45",
   "metadata": {
    "papermill": {
     "duration": 0.003332,
     "end_time": "2025-06-05T14:11:52.793997",
     "exception": false,
     "start_time": "2025-06-05T14:11:52.790665",
     "status": "completed"
    },
    "tags": []
   },
   "source": [
    "## Recap\n",
    "So far, you have loaded your data and reviewed it with the following code. Run this cell to set up your coding environment where the previous step left off."
   ]
  },
  {
   "cell_type": "code",
   "execution_count": 1,
   "id": "9380fc81",
   "metadata": {
    "execution": {
     "iopub.execute_input": "2025-06-05T14:11:52.802587Z",
     "iopub.status.busy": "2025-06-05T14:11:52.802195Z",
     "iopub.status.idle": "2025-06-05T14:11:56.588899Z",
     "shell.execute_reply": "2025-06-05T14:11:56.587732Z"
    },
    "papermill": {
     "duration": 3.792965,
     "end_time": "2025-06-05T14:11:56.590547",
     "exception": false,
     "start_time": "2025-06-05T14:11:52.797582",
     "status": "completed"
    },
    "tags": []
   },
   "outputs": [
    {
     "name": "stdout",
     "output_type": "stream",
     "text": [
      "Setup Complete\n"
     ]
    }
   ],
   "source": [
    "# Code you have previously used to load data\n",
    "import pandas as pd\n",
    "\n",
    "# Path of the file to read\n",
    "iowa_file_path = '../input/home-data-for-ml-course/train.csv'\n",
    "\n",
    "home_data = pd.read_csv(iowa_file_path)\n",
    "\n",
    "# Set up code checking\n",
    "from learntools.core import binder\n",
    "binder.bind(globals())\n",
    "from learntools.machine_learning.ex3 import *\n",
    "\n",
    "print(\"Setup Complete\")"
   ]
  },
  {
   "cell_type": "markdown",
   "id": "c411e6fb",
   "metadata": {
    "papermill": {
     "duration": 0.003749,
     "end_time": "2025-06-05T14:11:56.598347",
     "exception": false,
     "start_time": "2025-06-05T14:11:56.594598",
     "status": "completed"
    },
    "tags": []
   },
   "source": [
    "# Exercises\n",
    "\n",
    "## Step 1: Specify Prediction Target\n",
    "Select the target variable, which corresponds to the sales price. Save this to a new variable called `y`. You'll need to print a list of the columns to find the name of the column you need.\n"
   ]
  },
  {
   "cell_type": "code",
   "execution_count": 2,
   "id": "b828f6f5",
   "metadata": {
    "execution": {
     "iopub.execute_input": "2025-06-05T14:11:56.607200Z",
     "iopub.status.busy": "2025-06-05T14:11:56.606764Z",
     "iopub.status.idle": "2025-06-05T14:11:56.613559Z",
     "shell.execute_reply": "2025-06-05T14:11:56.612695Z"
    },
    "papermill": {
     "duration": 0.013058,
     "end_time": "2025-06-05T14:11:56.615147",
     "exception": false,
     "start_time": "2025-06-05T14:11:56.602089",
     "status": "completed"
    },
    "tags": []
   },
   "outputs": [
    {
     "name": "stdout",
     "output_type": "stream",
     "text": [
      "Index(['Id', 'MSSubClass', 'MSZoning', 'LotFrontage', 'LotArea', 'Street',\n",
      "       'Alley', 'LotShape', 'LandContour', 'Utilities', 'LotConfig',\n",
      "       'LandSlope', 'Neighborhood', 'Condition1', 'Condition2', 'BldgType',\n",
      "       'HouseStyle', 'OverallQual', 'OverallCond', 'YearBuilt', 'YearRemodAdd',\n",
      "       'RoofStyle', 'RoofMatl', 'Exterior1st', 'Exterior2nd', 'MasVnrType',\n",
      "       'MasVnrArea', 'ExterQual', 'ExterCond', 'Foundation', 'BsmtQual',\n",
      "       'BsmtCond', 'BsmtExposure', 'BsmtFinType1', 'BsmtFinSF1',\n",
      "       'BsmtFinType2', 'BsmtFinSF2', 'BsmtUnfSF', 'TotalBsmtSF', 'Heating',\n",
      "       'HeatingQC', 'CentralAir', 'Electrical', '1stFlrSF', '2ndFlrSF',\n",
      "       'LowQualFinSF', 'GrLivArea', 'BsmtFullBath', 'BsmtHalfBath', 'FullBath',\n",
      "       'HalfBath', 'BedroomAbvGr', 'KitchenAbvGr', 'KitchenQual',\n",
      "       'TotRmsAbvGrd', 'Functional', 'Fireplaces', 'FireplaceQu', 'GarageType',\n",
      "       'GarageYrBlt', 'GarageFinish', 'GarageCars', 'GarageArea', 'GarageQual',\n",
      "       'GarageCond', 'PavedDrive', 'WoodDeckSF', 'OpenPorchSF',\n",
      "       'EnclosedPorch', '3SsnPorch', 'ScreenPorch', 'PoolArea', 'PoolQC',\n",
      "       'Fence', 'MiscFeature', 'MiscVal', 'MoSold', 'YrSold', 'SaleType',\n",
      "       'SaleCondition', 'SalePrice'],\n",
      "      dtype='object')\n"
     ]
    }
   ],
   "source": [
    "# print the list of columns in the dataset to find the name of the prediction target\n",
    "print(home_data.columns)"
   ]
  },
  {
   "cell_type": "code",
   "execution_count": 3,
   "id": "03362691",
   "metadata": {
    "execution": {
     "iopub.execute_input": "2025-06-05T14:11:56.624398Z",
     "iopub.status.busy": "2025-06-05T14:11:56.624073Z",
     "iopub.status.idle": "2025-06-05T14:11:56.639104Z",
     "shell.execute_reply": "2025-06-05T14:11:56.638110Z"
    },
    "papermill": {
     "duration": 0.021271,
     "end_time": "2025-06-05T14:11:56.640468",
     "exception": false,
     "start_time": "2025-06-05T14:11:56.619197",
     "status": "completed"
    },
    "tags": []
   },
   "outputs": [
    {
     "data": {
      "application/javascript": [
       "parent.postMessage({\"jupyterEvent\": \"custom.exercise_interaction\", \"data\": {\"outcomeType\": 1, \"valueTowardsCompletion\": 0.25, \"interactionType\": 1, \"questionType\": 2, \"questionId\": \"1_SetTarget\", \"learnToolsVersion\": \"0.3.5\", \"failureMessage\": \"\", \"exceptionClass\": \"\", \"trace\": \"\"}}, \"*\")"
      ],
      "text/plain": [
       "<IPython.core.display.Javascript object>"
      ]
     },
     "metadata": {},
     "output_type": "display_data"
    },
    {
     "data": {
      "text/markdown": [
       "<span style=\"color:#33cc33\">Correct</span>"
      ],
      "text/plain": [
       "Correct"
      ]
     },
     "metadata": {},
     "output_type": "display_data"
    }
   ],
   "source": [
    "y = home_data['SalePrice']\n",
    "\n",
    "# Check your answer\n",
    "step_1.check()"
   ]
  },
  {
   "cell_type": "code",
   "execution_count": 4,
   "id": "ccbe7fc9",
   "metadata": {
    "collapsed": true,
    "execution": {
     "iopub.execute_input": "2025-06-05T14:11:56.650328Z",
     "iopub.status.busy": "2025-06-05T14:11:56.649988Z",
     "iopub.status.idle": "2025-06-05T14:11:56.654307Z",
     "shell.execute_reply": "2025-06-05T14:11:56.653352Z"
    },
    "jupyter": {
     "outputs_hidden": true
    },
    "papermill": {
     "duration": 0.011191,
     "end_time": "2025-06-05T14:11:56.655943",
     "exception": false,
     "start_time": "2025-06-05T14:11:56.644752",
     "status": "completed"
    },
    "tags": []
   },
   "outputs": [],
   "source": [
    "# The lines below will show you a hint or the solution.\n",
    "# step_1.hint() \n",
    "# step_1.solution()"
   ]
  },
  {
   "cell_type": "markdown",
   "id": "0ba41df1",
   "metadata": {
    "papermill": {
     "duration": 0.003817,
     "end_time": "2025-06-05T14:11:56.664171",
     "exception": false,
     "start_time": "2025-06-05T14:11:56.660354",
     "status": "completed"
    },
    "tags": []
   },
   "source": [
    "## Step 2: Create X\n",
    "Now you will create a DataFrame called `X` holding the predictive features.\n",
    "\n",
    "Since you want only some columns from the original data, you'll first create a list with the names of the columns you want in `X`.\n",
    "\n",
    "You'll use just the following columns in the list (you can copy and paste the whole list to save some typing, though you'll still need to add quotes):\n",
    "  * LotArea\n",
    "  * YearBuilt\n",
    "  * 1stFlrSF\n",
    "  * 2ndFlrSF\n",
    "  * FullBath\n",
    "  * BedroomAbvGr\n",
    "  * TotRmsAbvGrd\n",
    "\n",
    "After you've created that list of features, use it to create the DataFrame that you'll use to fit the model."
   ]
  },
  {
   "cell_type": "code",
   "execution_count": 5,
   "id": "9e8b452d",
   "metadata": {
    "execution": {
     "iopub.execute_input": "2025-06-05T14:11:56.673545Z",
     "iopub.status.busy": "2025-06-05T14:11:56.673254Z",
     "iopub.status.idle": "2025-06-05T14:11:56.685055Z",
     "shell.execute_reply": "2025-06-05T14:11:56.684096Z"
    },
    "papermill": {
     "duration": 0.018574,
     "end_time": "2025-06-05T14:11:56.686946",
     "exception": false,
     "start_time": "2025-06-05T14:11:56.668372",
     "status": "completed"
    },
    "tags": []
   },
   "outputs": [
    {
     "data": {
      "application/javascript": [
       "parent.postMessage({\"jupyterEvent\": \"custom.exercise_interaction\", \"data\": {\"outcomeType\": 1, \"valueTowardsCompletion\": 0.25, \"interactionType\": 1, \"questionType\": 2, \"questionId\": \"2_SelectPredictionData\", \"learnToolsVersion\": \"0.3.5\", \"failureMessage\": \"\", \"exceptionClass\": \"\", \"trace\": \"\"}}, \"*\")"
      ],
      "text/plain": [
       "<IPython.core.display.Javascript object>"
      ]
     },
     "metadata": {},
     "output_type": "display_data"
    },
    {
     "data": {
      "text/markdown": [
       "<span style=\"color:#33cc33\">Correct</span>"
      ],
      "text/plain": [
       "Correct"
      ]
     },
     "metadata": {},
     "output_type": "display_data"
    }
   ],
   "source": [
    "# Create the list of features below\n",
    "feature_names = ['LotArea', 'YearBuilt', '1stFlrSF', '2ndFlrSF', 'FullBath', 'BedroomAbvGr', 'TotRmsAbvGrd']\n",
    "\n",
    "# Select data corresponding to features in feature_names\n",
    "X = home_data[feature_names]\n",
    "\n",
    "# Check your answer\n",
    "step_2.check()"
   ]
  },
  {
   "cell_type": "code",
   "execution_count": 6,
   "id": "9cbcb20c",
   "metadata": {
    "collapsed": true,
    "execution": {
     "iopub.execute_input": "2025-06-05T14:11:56.698901Z",
     "iopub.status.busy": "2025-06-05T14:11:56.698427Z",
     "iopub.status.idle": "2025-06-05T14:11:56.703325Z",
     "shell.execute_reply": "2025-06-05T14:11:56.702419Z"
    },
    "jupyter": {
     "outputs_hidden": true
    },
    "papermill": {
     "duration": 0.012331,
     "end_time": "2025-06-05T14:11:56.704964",
     "exception": false,
     "start_time": "2025-06-05T14:11:56.692633",
     "status": "completed"
    },
    "tags": []
   },
   "outputs": [],
   "source": [
    "# step_2.hint()\n",
    "# step_2.solution()"
   ]
  },
  {
   "cell_type": "markdown",
   "id": "ae958af7",
   "metadata": {
    "papermill": {
     "duration": 0.00407,
     "end_time": "2025-06-05T14:11:56.713804",
     "exception": false,
     "start_time": "2025-06-05T14:11:56.709734",
     "status": "completed"
    },
    "tags": []
   },
   "source": [
    "## Review Data\n",
    "Before building a model, take a quick look at **X** to verify it looks sensible"
   ]
  },
  {
   "cell_type": "code",
   "execution_count": 7,
   "id": "20ec897c",
   "metadata": {
    "execution": {
     "iopub.execute_input": "2025-06-05T14:11:56.725771Z",
     "iopub.status.busy": "2025-06-05T14:11:56.725412Z",
     "iopub.status.idle": "2025-06-05T14:11:56.756599Z",
     "shell.execute_reply": "2025-06-05T14:11:56.755466Z"
    },
    "papermill": {
     "duration": 0.038167,
     "end_time": "2025-06-05T14:11:56.758303",
     "exception": false,
     "start_time": "2025-06-05T14:11:56.720136",
     "status": "completed"
    },
    "tags": []
   },
   "outputs": [
    {
     "name": "stdout",
     "output_type": "stream",
     "text": [
      "             LotArea    YearBuilt     1stFlrSF     2ndFlrSF     FullBath  \\\n",
      "count    1460.000000  1460.000000  1460.000000  1460.000000  1460.000000   \n",
      "mean    10516.828082  1971.267808  1162.626712   346.992466     1.565068   \n",
      "std      9981.264932    30.202904   386.587738   436.528436     0.550916   \n",
      "min      1300.000000  1872.000000   334.000000     0.000000     0.000000   \n",
      "25%      7553.500000  1954.000000   882.000000     0.000000     1.000000   \n",
      "50%      9478.500000  1973.000000  1087.000000     0.000000     2.000000   \n",
      "75%     11601.500000  2000.000000  1391.250000   728.000000     2.000000   \n",
      "max    215245.000000  2010.000000  4692.000000  2065.000000     3.000000   \n",
      "\n",
      "       BedroomAbvGr  TotRmsAbvGrd  \n",
      "count   1460.000000   1460.000000  \n",
      "mean       2.866438      6.517808  \n",
      "std        0.815778      1.625393  \n",
      "min        0.000000      2.000000  \n",
      "25%        2.000000      5.000000  \n",
      "50%        3.000000      6.000000  \n",
      "75%        3.000000      7.000000  \n",
      "max        8.000000     14.000000  \n",
      "   LotArea  YearBuilt  1stFlrSF  2ndFlrSF  FullBath  BedroomAbvGr  \\\n",
      "0     8450       2003       856       854         2             3   \n",
      "1     9600       1976      1262         0         2             3   \n",
      "2    11250       2001       920       866         2             3   \n",
      "3     9550       1915       961       756         1             3   \n",
      "4    14260       2000      1145      1053         2             4   \n",
      "\n",
      "   TotRmsAbvGrd  \n",
      "0             8  \n",
      "1             6  \n",
      "2             6  \n",
      "3             7  \n",
      "4             9  \n"
     ]
    }
   ],
   "source": [
    "# Review data\n",
    "# print description or statistics from X\n",
    "#print(_)\n",
    "\n",
    "# print the top few lines\n",
    "#print(_)\n",
    "\n",
    "print(X.describe())\n",
    "\n",
    "# print the top few lines\n",
    "print(X.head())"
   ]
  },
  {
   "cell_type": "markdown",
   "id": "dcbe8791",
   "metadata": {
    "papermill": {
     "duration": 0.004214,
     "end_time": "2025-06-05T14:11:56.767136",
     "exception": false,
     "start_time": "2025-06-05T14:11:56.762922",
     "status": "completed"
    },
    "tags": []
   },
   "source": [
    "## Step 3: Specify and Fit Model\n",
    "Create a `DecisionTreeRegressor` and save it iowa_model. Ensure you've done the relevant import from sklearn to run this command.\n",
    "\n",
    "Then fit the model you just created using the data in `X` and `y` that you saved above."
   ]
  },
  {
   "cell_type": "code",
   "execution_count": 8,
   "id": "7cc870dc",
   "metadata": {
    "execution": {
     "iopub.execute_input": "2025-06-05T14:11:56.776874Z",
     "iopub.status.busy": "2025-06-05T14:11:56.776525Z",
     "iopub.status.idle": "2025-06-05T14:11:56.792839Z",
     "shell.execute_reply": "2025-06-05T14:11:56.791957Z"
    },
    "papermill": {
     "duration": 0.022822,
     "end_time": "2025-06-05T14:11:56.794270",
     "exception": false,
     "start_time": "2025-06-05T14:11:56.771448",
     "status": "completed"
    },
    "tags": []
   },
   "outputs": [
    {
     "data": {
      "application/javascript": [
       "parent.postMessage({\"jupyterEvent\": \"custom.exercise_interaction\", \"data\": {\"outcomeType\": 1, \"valueTowardsCompletion\": 0.25, \"interactionType\": 1, \"questionType\": 2, \"questionId\": \"3_CreateModel\", \"learnToolsVersion\": \"0.3.5\", \"failureMessage\": \"\", \"exceptionClass\": \"\", \"trace\": \"\"}}, \"*\")"
      ],
      "text/plain": [
       "<IPython.core.display.Javascript object>"
      ]
     },
     "metadata": {},
     "output_type": "display_data"
    },
    {
     "data": {
      "text/markdown": [
       "<span style=\"color:#33cc33\">Correct</span>"
      ],
      "text/plain": [
       "Correct"
      ]
     },
     "metadata": {},
     "output_type": "display_data"
    }
   ],
   "source": [
    "# from _ import _\n",
    "#specify the model. \n",
    "#For model reproducibility, set a numeric value for random_state when specifying the model\n",
    "from sklearn.tree import DecisionTreeRegressor\n",
    "iowa_model = DecisionTreeRegressor(random_state=1)\n",
    "\n",
    "# Fit the model\n",
    "iowa_model.fit(X, y)\n",
    "\n",
    "# Check your answer\n",
    "step_3.check()"
   ]
  },
  {
   "cell_type": "code",
   "execution_count": 9,
   "id": "8cffe742",
   "metadata": {
    "collapsed": true,
    "execution": {
     "iopub.execute_input": "2025-06-05T14:11:56.804787Z",
     "iopub.status.busy": "2025-06-05T14:11:56.804449Z",
     "iopub.status.idle": "2025-06-05T14:11:56.808620Z",
     "shell.execute_reply": "2025-06-05T14:11:56.807734Z"
    },
    "jupyter": {
     "outputs_hidden": true
    },
    "papermill": {
     "duration": 0.010924,
     "end_time": "2025-06-05T14:11:56.810184",
     "exception": false,
     "start_time": "2025-06-05T14:11:56.799260",
     "status": "completed"
    },
    "tags": []
   },
   "outputs": [],
   "source": [
    "# step_3.hint()\n",
    "# step_3.solution()"
   ]
  },
  {
   "cell_type": "markdown",
   "id": "fc042c08",
   "metadata": {
    "papermill": {
     "duration": 0.004266,
     "end_time": "2025-06-05T14:11:56.819203",
     "exception": false,
     "start_time": "2025-06-05T14:11:56.814937",
     "status": "completed"
    },
    "tags": []
   },
   "source": [
    "## Step 4: Make Predictions\n",
    "Make predictions with the model's `predict` command using `X` as the data. Save the results to a variable called `predictions`."
   ]
  },
  {
   "cell_type": "code",
   "execution_count": 10,
   "id": "0b0c3a02",
   "metadata": {
    "execution": {
     "iopub.execute_input": "2025-06-05T14:11:56.830057Z",
     "iopub.status.busy": "2025-06-05T14:11:56.829335Z",
     "iopub.status.idle": "2025-06-05T14:11:56.840457Z",
     "shell.execute_reply": "2025-06-05T14:11:56.839763Z"
    },
    "papermill": {
     "duration": 0.018201,
     "end_time": "2025-06-05T14:11:56.841879",
     "exception": false,
     "start_time": "2025-06-05T14:11:56.823678",
     "status": "completed"
    },
    "tags": []
   },
   "outputs": [
    {
     "name": "stdout",
     "output_type": "stream",
     "text": [
      "[208500. 181500. 223500. ... 266500. 142125. 147500.]\n"
     ]
    },
    {
     "data": {
      "application/javascript": [
       "parent.postMessage({\"jupyterEvent\": \"custom.exercise_interaction\", \"data\": {\"outcomeType\": 1, \"valueTowardsCompletion\": 0.25, \"interactionType\": 1, \"questionType\": 2, \"questionId\": \"4_MakePredictions\", \"learnToolsVersion\": \"0.3.5\", \"failureMessage\": \"\", \"exceptionClass\": \"\", \"trace\": \"\"}}, \"*\")"
      ],
      "text/plain": [
       "<IPython.core.display.Javascript object>"
      ]
     },
     "metadata": {},
     "output_type": "display_data"
    },
    {
     "data": {
      "text/markdown": [
       "<span style=\"color:#33cc33\">Correct</span>"
      ],
      "text/plain": [
       "Correct"
      ]
     },
     "metadata": {},
     "output_type": "display_data"
    }
   ],
   "source": [
    "predictions = iowa_model.predict(X)\n",
    "print(predictions)\n",
    "# Check your answer\n",
    "step_4.check()"
   ]
  },
  {
   "cell_type": "code",
   "execution_count": 11,
   "id": "de1efab1",
   "metadata": {
    "collapsed": true,
    "execution": {
     "iopub.execute_input": "2025-06-05T14:11:56.853290Z",
     "iopub.status.busy": "2025-06-05T14:11:56.852558Z",
     "iopub.status.idle": "2025-06-05T14:11:56.856437Z",
     "shell.execute_reply": "2025-06-05T14:11:56.855715Z"
    },
    "jupyter": {
     "outputs_hidden": true
    },
    "papermill": {
     "duration": 0.010907,
     "end_time": "2025-06-05T14:11:56.857818",
     "exception": false,
     "start_time": "2025-06-05T14:11:56.846911",
     "status": "completed"
    },
    "tags": []
   },
   "outputs": [],
   "source": [
    "# step_4.hint()\n",
    "# step_4.solution()"
   ]
  },
  {
   "cell_type": "markdown",
   "id": "2a69d8e8",
   "metadata": {
    "papermill": {
     "duration": 0.004832,
     "end_time": "2025-06-05T14:11:56.867602",
     "exception": false,
     "start_time": "2025-06-05T14:11:56.862770",
     "status": "completed"
    },
    "tags": []
   },
   "source": [
    "## Think About Your Results\n",
    "\n",
    "Use the `head` method to compare the top few predictions to the actual home values (in `y`) for those same homes. Anything surprising?\n"
   ]
  },
  {
   "cell_type": "code",
   "execution_count": 12,
   "id": "c9b1c044",
   "metadata": {
    "execution": {
     "iopub.execute_input": "2025-06-05T14:11:56.878563Z",
     "iopub.status.busy": "2025-06-05T14:11:56.878224Z",
     "iopub.status.idle": "2025-06-05T14:11:56.883867Z",
     "shell.execute_reply": "2025-06-05T14:11:56.882930Z"
    },
    "papermill": {
     "duration": 0.01295,
     "end_time": "2025-06-05T14:11:56.885379",
     "exception": false,
     "start_time": "2025-06-05T14:11:56.872429",
     "status": "completed"
    },
    "tags": []
   },
   "outputs": [
    {
     "name": "stdout",
     "output_type": "stream",
     "text": [
      "Predicted prices: [208500. 181500. 223500. 140000. 250000.]\n",
      "Actual prices: [208500 181500 223500 140000 250000]\n"
     ]
    }
   ],
   "source": [
    "# You can write code in this cell\n",
    "# Compare the top few predictions to the actual home values\n",
    "print(\"Predicted prices:\", predictions[:5])\n",
    "print(\"Actual prices:\", y.head().values)"
   ]
  },
  {
   "cell_type": "code",
   "execution_count": 13,
   "id": "05feecc3",
   "metadata": {
    "execution": {
     "iopub.execute_input": "2025-06-05T14:11:56.896573Z",
     "iopub.status.busy": "2025-06-05T14:11:56.896260Z",
     "iopub.status.idle": "2025-06-05T14:11:56.903540Z",
     "shell.execute_reply": "2025-06-05T14:11:56.902628Z"
    },
    "papermill": {
     "duration": 0.014563,
     "end_time": "2025-06-05T14:11:56.905007",
     "exception": false,
     "start_time": "2025-06-05T14:11:56.890444",
     "status": "completed"
    },
    "tags": []
   },
   "outputs": [
    {
     "name": "stdout",
     "output_type": "stream",
     "text": [
      "   Predicted  Actual\n",
      "0   208500.0  208500\n",
      "1   181500.0  181500\n",
      "2   223500.0  223500\n",
      "3   140000.0  140000\n",
      "4   250000.0  250000\n"
     ]
    }
   ],
   "source": [
    "# Show side-by-side in a DataFrame\n",
    "comparison = pd.DataFrame({'Predicted': predictions[:5], 'Actual': y.head().values})\n",
    "print(comparison)"
   ]
  },
  {
   "cell_type": "markdown",
   "id": "6abbf4d3",
   "metadata": {
    "papermill": {
     "duration": 0.004718,
     "end_time": "2025-06-05T14:11:56.914752",
     "exception": false,
     "start_time": "2025-06-05T14:11:56.910034",
     "status": "completed"
    },
    "tags": []
   },
   "source": [
    "It's natural to ask how accurate the model's predictions will be and how you can improve that. That will be you're next step.\n",
    "\n",
    "# Keep Going\n",
    "\n",
    "You are ready for **[Model Validation](https://www.kaggle.com/dansbecker/model-validation).**\n"
   ]
  },
  {
   "cell_type": "markdown",
   "id": "738c08e0",
   "metadata": {
    "papermill": {
     "duration": 0.004668,
     "end_time": "2025-06-05T14:11:56.924252",
     "exception": false,
     "start_time": "2025-06-05T14:11:56.919584",
     "status": "completed"
    },
    "tags": []
   },
   "source": [
    "---\n",
    "\n",
    "\n",
    "\n",
    "\n",
    "*Have questions or comments? Visit the [course discussion forum](https://www.kaggle.com/learn/intro-to-machine-learning/discussion) to chat with other learners.*"
   ]
  }
 ],
 "metadata": {
  "kaggle": {
   "accelerator": "none",
   "dataSources": [
    {
     "databundleVersionId": 111096,
     "sourceId": 10211,
     "sourceType": "competition"
    },
    {
     "datasetId": 11167,
     "sourceId": 15520,
     "sourceType": "datasetVersion"
    },
    {
     "datasetId": 2709,
     "sourceId": 38454,
     "sourceType": "datasetVersion"
    }
   ],
   "isGpuEnabled": false,
   "isInternetEnabled": false,
   "language": "python",
   "sourceType": "notebook"
  },
  "kernelspec": {
   "display_name": "Python 3",
   "language": "python",
   "name": "python3"
  },
  "language_info": {
   "codemirror_mode": {
    "name": "ipython",
    "version": 3
   },
   "file_extension": ".py",
   "mimetype": "text/x-python",
   "name": "python",
   "nbconvert_exporter": "python",
   "pygments_lexer": "ipython3",
   "version": "3.11.11"
  },
  "papermill": {
   "default_parameters": {},
   "duration": 9.61099,
   "end_time": "2025-06-05T14:11:57.649211",
   "environment_variables": {},
   "exception": null,
   "input_path": "__notebook__.ipynb",
   "output_path": "__notebook__.ipynb",
   "parameters": {},
   "start_time": "2025-06-05T14:11:48.038221",
   "version": "2.6.0"
  }
 },
 "nbformat": 4,
 "nbformat_minor": 5
}
